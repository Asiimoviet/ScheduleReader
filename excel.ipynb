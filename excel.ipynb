{
 "metadata": {
  "language_info": {
   "codemirror_mode": {
    "name": "ipython",
    "version": 3
   },
   "file_extension": ".py",
   "mimetype": "text/x-python",
   "name": "python",
   "nbconvert_exporter": "python",
   "pygments_lexer": "ipython3",
   "version": "3.9.2"
  },
  "orig_nbformat": 2,
  "kernelspec": {
   "name": "python3",
   "display_name": "Python 3.9.2 64-bit",
   "metadata": {
    "interpreter": {
     "hash": "767d51c1340bd893661ea55ea3124f6de3c7a262a8b4abca0554b478b1e2ff90"
    }
   }
  }
 },
 "nbformat": 4,
 "nbformat_minor": 2,
 "cells": [
  {
   "cell_type": "code",
   "execution_count": 4,
   "metadata": {},
   "outputs": [],
   "source": [
    "import pandas as pd\n",
    "from icalendar import Calendar, Event"
   ]
  },
  {
   "cell_type": "code",
   "execution_count": 2,
   "metadata": {},
   "outputs": [],
   "source": [
    "excel = pd.read_excel('schedule.xlsx')"
   ]
  },
  {
   "cell_type": "code",
   "execution_count": 3,
   "metadata": {},
   "outputs": [
    {
     "output_type": "execute_result",
     "data": {
      "text/plain": [
       "   EAP WEEK 6   Unnamed: 1                                  Unnamed: 2  \\\n",
       "0         NaN          NaN                                      Monday   \n",
       "1         NaN          NaN                                         NaN   \n",
       "2           1    8:10-8:50  Intro to Western Literature - Megan - S105   \n",
       "3         NaN          NaN   American Literature Class 1 - Kate - S302   \n",
       "4         NaN          NaN  Contemporary English Class 1 - Drew - S207   \n",
       "..        ...          ...                                         ...   \n",
       "89        NaN          NaN                                         NaN   \n",
       "90        NaN          NaN                                         NaN   \n",
       "91        NaN  20:40-22:00         AP Calculus BC  Class 2 -Robi\\nS303   \n",
       "92        NaN          NaN                                         NaN   \n",
       "93        NaN          NaN        AP Calculus BC  Class 3 -Jason\\nS201   \n",
       "\n",
       "     Unnamed: 3                                 Unnamed: 4  \\\n",
       "0           NaN                                    Tuesday   \n",
       "1           NaN                                        NaN   \n",
       "2     8:00-8:40                                          /   \n",
       "3           NaN     AP Macroeconomics Class 1 - Ken - S502   \n",
       "4           NaN  AP World History Class 2 - Jonaivi - S302   \n",
       "..          ...                                        ...   \n",
       "89          NaN                                        NaN   \n",
       "90          NaN                                        NaN   \n",
       "91  20:40-22:00         AP Calculus BC  Class 1-Josh\\nS202   \n",
       "92          NaN                                        NaN   \n",
       "93          NaN                AP Calculus AB - Lisa\\nS303   \n",
       "\n",
       "                                   Unnamed: 5  \\\n",
       "0                                   Wednesday   \n",
       "1                                         NaN   \n",
       "2           US History Class 2 - Megan - S501   \n",
       "3      AP Macroeconomics Class 1 - Ken - S502   \n",
       "4   AP World History Class 2 - Jonaivi - S302   \n",
       "..                                        ...   \n",
       "89                                        NaN   \n",
       "90                                        NaN   \n",
       "91              AP Physics C: M   Roger\\nS303   \n",
       "92                                        NaN   \n",
       "93                                        NaN   \n",
       "\n",
       "                                    Unnamed: 6  \\\n",
       "0                                     Thursday   \n",
       "1                                          NaN   \n",
       "2   Intro to Western Literature - Megan - S105   \n",
       "3    American Literature Class 1 - Kate - S302   \n",
       "4   Contemporary English Class 1 - Drew - S207   \n",
       "..                                         ...   \n",
       "89                                         NaN   \n",
       "90                                         NaN   \n",
       "91                                           /   \n",
       "92                                         NaN   \n",
       "93                                         NaN   \n",
       "\n",
       "                                   Unnamed: 7  \n",
       "0                                      Friday  \n",
       "1                                         NaN  \n",
       "2           US History Class 2 - Megan - S501  \n",
       "3      AP Macroeconomics Class 1 - Ken - S502  \n",
       "4   AP World History Class 2 - Jonaivi - S302  \n",
       "..                                        ...  \n",
       "89                                        NaN  \n",
       "90                                        NaN  \n",
       "91                                        NaN  \n",
       "92                                        NaN  \n",
       "93                                        NaN  \n",
       "\n",
       "[94 rows x 8 columns]"
      ],
      "text/html": "<div>\n<style scoped>\n    .dataframe tbody tr th:only-of-type {\n        vertical-align: middle;\n    }\n\n    .dataframe tbody tr th {\n        vertical-align: top;\n    }\n\n    .dataframe thead th {\n        text-align: right;\n    }\n</style>\n<table border=\"1\" class=\"dataframe\">\n  <thead>\n    <tr style=\"text-align: right;\">\n      <th></th>\n      <th>EAP WEEK 6</th>\n      <th>Unnamed: 1</th>\n      <th>Unnamed: 2</th>\n      <th>Unnamed: 3</th>\n      <th>Unnamed: 4</th>\n      <th>Unnamed: 5</th>\n      <th>Unnamed: 6</th>\n      <th>Unnamed: 7</th>\n    </tr>\n  </thead>\n  <tbody>\n    <tr>\n      <th>0</th>\n      <td>NaN</td>\n      <td>NaN</td>\n      <td>Monday</td>\n      <td>NaN</td>\n      <td>Tuesday</td>\n      <td>Wednesday</td>\n      <td>Thursday</td>\n      <td>Friday</td>\n    </tr>\n    <tr>\n      <th>1</th>\n      <td>NaN</td>\n      <td>NaN</td>\n      <td>NaN</td>\n      <td>NaN</td>\n      <td>NaN</td>\n      <td>NaN</td>\n      <td>NaN</td>\n      <td>NaN</td>\n    </tr>\n    <tr>\n      <th>2</th>\n      <td>1</td>\n      <td>8:10-8:50</td>\n      <td>Intro to Western Literature - Megan - S105</td>\n      <td>8:00-8:40</td>\n      <td>/</td>\n      <td>US History Class 2 - Megan - S501</td>\n      <td>Intro to Western Literature - Megan - S105</td>\n      <td>US History Class 2 - Megan - S501</td>\n    </tr>\n    <tr>\n      <th>3</th>\n      <td>NaN</td>\n      <td>NaN</td>\n      <td>American Literature Class 1 - Kate - S302</td>\n      <td>NaN</td>\n      <td>AP Macroeconomics Class 1 - Ken - S502</td>\n      <td>AP Macroeconomics Class 1 - Ken - S502</td>\n      <td>American Literature Class 1 - Kate - S302</td>\n      <td>AP Macroeconomics Class 1 - Ken - S502</td>\n    </tr>\n    <tr>\n      <th>4</th>\n      <td>NaN</td>\n      <td>NaN</td>\n      <td>Contemporary English Class 1 - Drew - S207</td>\n      <td>NaN</td>\n      <td>AP World History Class 2 - Jonaivi - S302</td>\n      <td>AP World History Class 2 - Jonaivi - S302</td>\n      <td>Contemporary English Class 1 - Drew - S207</td>\n      <td>AP World History Class 2 - Jonaivi - S302</td>\n    </tr>\n    <tr>\n      <th>...</th>\n      <td>...</td>\n      <td>...</td>\n      <td>...</td>\n      <td>...</td>\n      <td>...</td>\n      <td>...</td>\n      <td>...</td>\n      <td>...</td>\n    </tr>\n    <tr>\n      <th>89</th>\n      <td>NaN</td>\n      <td>NaN</td>\n      <td>NaN</td>\n      <td>NaN</td>\n      <td>NaN</td>\n      <td>NaN</td>\n      <td>NaN</td>\n      <td>NaN</td>\n    </tr>\n    <tr>\n      <th>90</th>\n      <td>NaN</td>\n      <td>NaN</td>\n      <td>NaN</td>\n      <td>NaN</td>\n      <td>NaN</td>\n      <td>NaN</td>\n      <td>NaN</td>\n      <td>NaN</td>\n    </tr>\n    <tr>\n      <th>91</th>\n      <td>NaN</td>\n      <td>20:40-22:00</td>\n      <td>AP Calculus BC  Class 2 -Robi\\nS303</td>\n      <td>20:40-22:00</td>\n      <td>AP Calculus BC  Class 1-Josh\\nS202</td>\n      <td>AP Physics C: M   Roger\\nS303</td>\n      <td>/</td>\n      <td>NaN</td>\n    </tr>\n    <tr>\n      <th>92</th>\n      <td>NaN</td>\n      <td>NaN</td>\n      <td>NaN</td>\n      <td>NaN</td>\n      <td>NaN</td>\n      <td>NaN</td>\n      <td>NaN</td>\n      <td>NaN</td>\n    </tr>\n    <tr>\n      <th>93</th>\n      <td>NaN</td>\n      <td>NaN</td>\n      <td>AP Calculus BC  Class 3 -Jason\\nS201</td>\n      <td>NaN</td>\n      <td>AP Calculus AB - Lisa\\nS303</td>\n      <td>NaN</td>\n      <td>NaN</td>\n      <td>NaN</td>\n    </tr>\n  </tbody>\n</table>\n<p>94 rows × 8 columns</p>\n</div>"
     },
     "metadata": {},
     "execution_count": 3
    }
   ],
   "source": [
    "excel"
   ]
  },
  {
   "cell_type": "code",
   "execution_count": 21,
   "metadata": {},
   "outputs": [],
   "source": [
    "rows = excel.iloc[:, 0].dropna().index.values.astype(int)"
   ]
  },
  {
   "cell_type": "code",
   "execution_count": 51,
   "metadata": {},
   "outputs": [
    {
     "output_type": "stream",
     "name": "stdout",
     "text": [
      "handling 1th period at from position 2 to 10\n2    Intro to Western Literature - Megan - S105\n3     American Literature Class 1 - Kate - S302\n4    Contemporary English Class 1 - Drew - S207\n5     British Literature Class 1 - James - S208\n6         AP Calculus AB  Class 1 - Lisa - S501\n7         AP Calculus BC  Class 1 - Josh - S301\n8                 Applied Math - Xue Lei - S202\n9         AP Statistics Class 1 - Edward - S402\nName: Unnamed: 2, dtype: object\nhandling 2th period at from position 11 to 19\n11    Intro to Western Literature - Megan - S105\n12     American Literature Class 1 - Kate - S302\n13    Contemporary English Class 1 - Drew - S207\n14     British Literature Class 1 - James - S208\n15         AP Calculus AB  Class 1 - Lisa - S501\n16         AP Calculus BC  Class 1 - Josh - S301\n17                 Applied Math - Xue Lei - S202\n18         AP Statistics Class 1 - Edward - S402\nName: Unnamed: 2, dtype: object\nhandling 3th period at from position 20 to 29\n20                                                    /\n21    Entrepreneurship & Business Planning - Alex - ...\n22            AP World History Class 1 - Jonaivi - S202\n23                    AP Psychology - Andy Liang - S302\n24          Earth Science Class 1 - Stephen Zhou - S201\n25               Intermediate Chemistry - Janice - S301\n26                   Intermediate Physics - Nico - S501\n27               Intermediate Biology - Fernanda - S404\n28               AP Physics C: M Class 1 - Roger - S105\nName: Unnamed: 2, dtype: object\nhandling 4th period at from position 30 to 39\n30    AP English Language and composition - Kate - S401\n31                              Debating - James - S402\n32             Statistics and Probability - Lisa - S301\n33              AP Physics C: M  Class 2 - Roger - S303\n34                AP Chemistry Class 2 - Cecelia - S202\n35                     Biology Honors - Fernanda - S404\n36          Earth Science Class 2 - Stephen Zhou - S201\n37              AP Macroeconomics Class 2 - Dion - S502\n38               AP Macroeconomics Class 3 - Ken - S501\nName: Unnamed: 2, dtype: object\nhandling 5th period at from position 40 to 50\n40    AP English Language and composition - Kate - S401\n41                              Debating - James - S402\n42             Statistics and Probability - Lisa - S301\n43              AP Physics C: M  Class 2 - Roger - S303\n44                AP Chemistry Class 2 - Cecelia - S202\n45                     Biology Honors - Fernanda - S404\n46          Earth Science Class 2 - Stephen Zhou - S201\n47              AP Macroeconomics Class 2 - Dion - S502\n48               AP Macroeconomics Class 3 - Ken - S501\n49    AP Computer Science Class 2 - Mr. Li Yutong - ...\nName: Unnamed: 2, dtype: object\nhandling 6th period at from position 51 to 59\n51         ACT 1 - Chinese -Ms. Fan - S302\n52    ACT 2 - ACT Writing - Dorothy - S502\n53      ACT 3 - ACT Reading - Shane - S202\n54         SAT - SAT 精读 - Catherine - S207\n55       TOEFL 2 - Listening - Kris - S301\n56       TOEFL 4 - Reading - Hannah - S501\n57                                       /\n58                                       /\nName: Unnamed: 2, dtype: object\nhandling 7th period at from position 60 to 68\n60                           ACT 1 - P.E\n61       ACT 2 - Chinese -Ms. Fan - S502\n62    ACT 3 - ACT Reading - Shane - S202\n63       SAT - SAT 精读 - Catherine - S207\n64                         TOEFL 2 - P.E\n65     TOEFL 4 - Reading - Hannah - S501\n66                                     /\n67                                     /\nName: Unnamed: 2, dtype: object\nhandling 8th period at from position 69 to 78\n69    EAP 1\\2\\4： 升学指导-S303\\nEAP 3\\5\\6:  Class Meetin...\n70                                                  NaN\n71                                                  NaN\n72                                                  NaN\n73                                                  NaN\n74                                                  NaN\n75                                                  NaN\n76                                                  NaN\n77                                                  NaN\nName: Unnamed: 2, dtype: object\n"
     ]
    },
    {
     "output_type": "error",
     "ename": "IndexError",
     "evalue": "index 9 is out of bounds for axis 0 with size 9",
     "traceback": [
      "\u001b[0;31m---------------------------------------------------------------------------\u001b[0m",
      "\u001b[0;31mIndexError\u001b[0m                                Traceback (most recent call last)",
      "\u001b[0;32m<ipython-input-51-3b23947bfee3>\u001b[0m in \u001b[0;36m<module>\u001b[0;34m\u001b[0m\n\u001b[1;32m      1\u001b[0m \u001b[0;32mfor\u001b[0m \u001b[0mperiod\u001b[0m \u001b[0;32min\u001b[0m \u001b[0mrange\u001b[0m\u001b[0;34m(\u001b[0m\u001b[0;36m9\u001b[0m\u001b[0;34m)\u001b[0m\u001b[0;34m:\u001b[0m\u001b[0;34m\u001b[0m\u001b[0;34m\u001b[0m\u001b[0m\n\u001b[1;32m      2\u001b[0m     \u001b[0mrowstart\u001b[0m \u001b[0;34m=\u001b[0m \u001b[0mrows\u001b[0m\u001b[0;34m[\u001b[0m\u001b[0mperiod\u001b[0m\u001b[0;34m]\u001b[0m\u001b[0;34m\u001b[0m\u001b[0;34m\u001b[0m\u001b[0m\n\u001b[0;32m----> 3\u001b[0;31m     \u001b[0mrowend\u001b[0m \u001b[0;34m=\u001b[0m \u001b[0mrows\u001b[0m\u001b[0;34m[\u001b[0m\u001b[0mperiod\u001b[0m\u001b[0;34m+\u001b[0m\u001b[0;36m1\u001b[0m\u001b[0;34m]\u001b[0m \u001b[0;34m-\u001b[0m \u001b[0;36m1\u001b[0m\u001b[0;34m\u001b[0m\u001b[0;34m\u001b[0m\u001b[0m\n\u001b[0m\u001b[1;32m      4\u001b[0m     \u001b[0mprint\u001b[0m\u001b[0;34m(\u001b[0m\u001b[0;34m'handling {}th period at from position {} to {}'\u001b[0m\u001b[0;34m.\u001b[0m\u001b[0mformat\u001b[0m\u001b[0;34m(\u001b[0m\u001b[0mperiod\u001b[0m \u001b[0;34m+\u001b[0m \u001b[0;36m1\u001b[0m\u001b[0;34m,\u001b[0m \u001b[0mrowstart\u001b[0m\u001b[0;34m,\u001b[0m \u001b[0mrowend\u001b[0m\u001b[0;34m)\u001b[0m\u001b[0;34m)\u001b[0m\u001b[0;34m\u001b[0m\u001b[0;34m\u001b[0m\u001b[0m\n\u001b[1;32m      5\u001b[0m     \u001b[0mprint\u001b[0m\u001b[0;34m(\u001b[0m\u001b[0mexcel\u001b[0m\u001b[0;34m.\u001b[0m\u001b[0miloc\u001b[0m\u001b[0;34m[\u001b[0m\u001b[0mrowstart\u001b[0m \u001b[0;34m:\u001b[0m \u001b[0mrowend\u001b[0m\u001b[0;34m,\u001b[0m \u001b[0;36m2\u001b[0m\u001b[0;34m]\u001b[0m\u001b[0;34m)\u001b[0m\u001b[0;34m\u001b[0m\u001b[0;34m\u001b[0m\u001b[0m\n",
      "\u001b[0;31mIndexError\u001b[0m: index 9 is out of bounds for axis 0 with size 9"
     ]
    }
   ],
   "source": [
    "for period in range(9):\n",
    "    rowstart = rows[period]\n",
    "    rowend = rows[period+1] - 1\n",
    "    print('handling {}th period at from position {} to {}'.format(period + 1, rowstart, rowend))\n",
    "    print(excel.iloc[rowstart : rowend, 2])"
   ]
  },
  {
   "cell_type": "code",
   "execution_count": null,
   "metadata": {},
   "outputs": [],
   "source": []
  }
 ]
}