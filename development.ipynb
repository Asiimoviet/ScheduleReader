{
 "metadata": {
  "language_info": {
   "codemirror_mode": {
    "name": "ipython",
    "version": 3
   },
   "file_extension": ".py",
   "mimetype": "text/x-python",
   "name": "python",
   "nbconvert_exporter": "python",
   "pygments_lexer": "ipython3",
   "version": "3.9.2"
  },
  "orig_nbformat": 2,
  "kernelspec": {
   "name": "python3",
   "display_name": "Python 3.9.2 64-bit",
   "metadata": {
    "interpreter": {
     "hash": "767d51c1340bd893661ea55ea3124f6de3c7a262a8b4abca0554b478b1e2ff90"
    }
   }
  }
 },
 "nbformat": 4,
 "nbformat_minor": 2,
 "cells": [
  {
   "cell_type": "code",
   "execution_count": 4,
   "metadata": {},
   "outputs": [],
   "source": [
    "import pandas as pd"
   ]
  },
  {
   "cell_type": "code",
   "execution_count": 8,
   "metadata": {},
   "outputs": [],
   "source": [
    "sd = pd.read_excel(\"./schedule.xlsx\")"
   ]
  },
  {
   "cell_type": "code",
   "execution_count": 11,
   "metadata": {},
   "outputs": [
    {
     "output_type": "execute_result",
     "data": {
      "text/plain": [
       "   EAP WEEK 6 Unnamed: 1                                  Unnamed: 2  \\\n",
       "0         NaN        NaN                                      Monday   \n",
       "1         NaN        NaN                                         NaN   \n",
       "2           1  8:10-8:50  Intro to Western Literature - Megan - S105   \n",
       "3         NaN        NaN   American Literature Class 1 - Kate - S302   \n",
       "4         NaN        NaN  Contemporary English Class 1 - Drew - S207   \n",
       "5         NaN        NaN   British Literature Class 1 - James - S208   \n",
       "6         NaN        NaN       AP Calculus AB  Class 1 - Lisa - S501   \n",
       "7         NaN        NaN       AP Calculus BC  Class 1 - Josh - S301   \n",
       "8         NaN        NaN               Applied Math - Xue Lei - S202   \n",
       "9         NaN        NaN       AP Statistics Class 1 - Edward - S402   \n",
       "10        NaN        NaN                                           /   \n",
       "11          2  9:00-9:40  Intro to Western Literature - Megan - S105   \n",
       "12        NaN        NaN   American Literature Class 1 - Kate - S302   \n",
       "13        NaN        NaN  Contemporary English Class 1 - Drew - S207   \n",
       "\n",
       "   Unnamed: 3                                         Unnamed: 4  \\\n",
       "0         NaN                                            Tuesday   \n",
       "1         NaN                                                NaN   \n",
       "2   8:00-8:40                                                  /   \n",
       "3         NaN             AP Macroeconomics Class 1 - Ken - S502   \n",
       "4         NaN          AP World History Class 2 - Jonaivi - S302   \n",
       "5         NaN                 Business Foundations - Lily - S207   \n",
       "6         NaN              AP Chemistry Class 1 - Cecelia - S201   \n",
       "7         NaN     AP Environmental Science - Stephen Zhou - S403   \n",
       "8         NaN                       AP Biology - Fernanda - S404   \n",
       "9         NaN  AP Computer Science Class 1 - Mr. Li Yutong - ...   \n",
       "10        NaN                   AP Physics C: E&M - Roger - S208   \n",
       "11  8:50-9:30                 ACT 1 - ACT Reading - Shane - S302   \n",
       "12        NaN                ACT 2 - ACT Grammar - Serena - S502   \n",
       "13        NaN               ACT 3 - ACT Science - Stephen - S202   \n",
       "\n",
       "                                           Unnamed: 5  \\\n",
       "0                                           Wednesday   \n",
       "1                                                 NaN   \n",
       "2                   US History Class 2 - Megan - S501   \n",
       "3              AP Macroeconomics Class 1 - Ken - S502   \n",
       "4           AP World History Class 2 - Jonaivi - S302   \n",
       "5                  Business Foundations - Lily - S207   \n",
       "6               AP Chemistry Class 1 - Cecelia - S201   \n",
       "7      AP Environmental Science - Stephen Zhou - S403   \n",
       "8                        AP Biology - Fernanda - S404   \n",
       "9   AP Computer Science Class 1 - Mr. Li Yutong - ...   \n",
       "10                   AP Physics C: E&M - Roger - S208   \n",
       "11                  US History Class 2 - Megan - S501   \n",
       "12             AP Macroeconomics Class 1 - Ken - S502   \n",
       "13          AP World History Class 2 - Jonaivi - S302   \n",
       "\n",
       "                                    Unnamed: 6  \\\n",
       "0                                     Thursday   \n",
       "1                                          NaN   \n",
       "2   Intro to Western Literature - Megan - S105   \n",
       "3    American Literature Class 1 - Kate - S302   \n",
       "4   Contemporary English Class 1 - Drew - S207   \n",
       "5    British Literature Class 1 - James - S208   \n",
       "6        AP Calculus AB  Class 1 - Lisa - S501   \n",
       "7        AP Calculus BC  Class 1 - Josh - S301   \n",
       "8                Applied Math - Xue Lei - S202   \n",
       "9        AP Statistics Class 1 - Edward - S402   \n",
       "10                                           /   \n",
       "11  Intro to Western Literature - Megan - S105   \n",
       "12   American Literature Class 1 - Kate - S302   \n",
       "13  Contemporary English Class 1 - Drew - S207   \n",
       "\n",
       "                                           Unnamed: 7  \n",
       "0                                              Friday  \n",
       "1                                                 NaN  \n",
       "2                   US History Class 2 - Megan - S501  \n",
       "3              AP Macroeconomics Class 1 - Ken - S502  \n",
       "4           AP World History Class 2 - Jonaivi - S302  \n",
       "5                  Business Foundations - Lily - S207  \n",
       "6               AP Chemistry Class 1 - Cecelia - S201  \n",
       "7      AP Environmental Science - Stephen Zhou - S403  \n",
       "8                        AP Biology - Fernanda - S404  \n",
       "9   AP Computer Science Class 1 - Mr. Li Yutong - ...  \n",
       "10                   AP Physics C: E&M - Roger - S208  \n",
       "11                  US History Class 2 - Megan - S501  \n",
       "12             AP Macroeconomics Class 1 - Ken - S502  \n",
       "13          AP World History Class 2 - Jonaivi - S302  "
      ],
      "text/html": "<div>\n<style scoped>\n    .dataframe tbody tr th:only-of-type {\n        vertical-align: middle;\n    }\n\n    .dataframe tbody tr th {\n        vertical-align: top;\n    }\n\n    .dataframe thead th {\n        text-align: right;\n    }\n</style>\n<table border=\"1\" class=\"dataframe\">\n  <thead>\n    <tr style=\"text-align: right;\">\n      <th></th>\n      <th>EAP WEEK 6</th>\n      <th>Unnamed: 1</th>\n      <th>Unnamed: 2</th>\n      <th>Unnamed: 3</th>\n      <th>Unnamed: 4</th>\n      <th>Unnamed: 5</th>\n      <th>Unnamed: 6</th>\n      <th>Unnamed: 7</th>\n    </tr>\n  </thead>\n  <tbody>\n    <tr>\n      <th>0</th>\n      <td>NaN</td>\n      <td>NaN</td>\n      <td>Monday</td>\n      <td>NaN</td>\n      <td>Tuesday</td>\n      <td>Wednesday</td>\n      <td>Thursday</td>\n      <td>Friday</td>\n    </tr>\n    <tr>\n      <th>1</th>\n      <td>NaN</td>\n      <td>NaN</td>\n      <td>NaN</td>\n      <td>NaN</td>\n      <td>NaN</td>\n      <td>NaN</td>\n      <td>NaN</td>\n      <td>NaN</td>\n    </tr>\n    <tr>\n      <th>2</th>\n      <td>1</td>\n      <td>8:10-8:50</td>\n      <td>Intro to Western Literature - Megan - S105</td>\n      <td>8:00-8:40</td>\n      <td>/</td>\n      <td>US History Class 2 - Megan - S501</td>\n      <td>Intro to Western Literature - Megan - S105</td>\n      <td>US History Class 2 - Megan - S501</td>\n    </tr>\n    <tr>\n      <th>3</th>\n      <td>NaN</td>\n      <td>NaN</td>\n      <td>American Literature Class 1 - Kate - S302</td>\n      <td>NaN</td>\n      <td>AP Macroeconomics Class 1 - Ken - S502</td>\n      <td>AP Macroeconomics Class 1 - Ken - S502</td>\n      <td>American Literature Class 1 - Kate - S302</td>\n      <td>AP Macroeconomics Class 1 - Ken - S502</td>\n    </tr>\n    <tr>\n      <th>4</th>\n      <td>NaN</td>\n      <td>NaN</td>\n      <td>Contemporary English Class 1 - Drew - S207</td>\n      <td>NaN</td>\n      <td>AP World History Class 2 - Jonaivi - S302</td>\n      <td>AP World History Class 2 - Jonaivi - S302</td>\n      <td>Contemporary English Class 1 - Drew - S207</td>\n      <td>AP World History Class 2 - Jonaivi - S302</td>\n    </tr>\n    <tr>\n      <th>5</th>\n      <td>NaN</td>\n      <td>NaN</td>\n      <td>British Literature Class 1 - James - S208</td>\n      <td>NaN</td>\n      <td>Business Foundations - Lily - S207</td>\n      <td>Business Foundations - Lily - S207</td>\n      <td>British Literature Class 1 - James - S208</td>\n      <td>Business Foundations - Lily - S207</td>\n    </tr>\n    <tr>\n      <th>6</th>\n      <td>NaN</td>\n      <td>NaN</td>\n      <td>AP Calculus AB  Class 1 - Lisa - S501</td>\n      <td>NaN</td>\n      <td>AP Chemistry Class 1 - Cecelia - S201</td>\n      <td>AP Chemistry Class 1 - Cecelia - S201</td>\n      <td>AP Calculus AB  Class 1 - Lisa - S501</td>\n      <td>AP Chemistry Class 1 - Cecelia - S201</td>\n    </tr>\n    <tr>\n      <th>7</th>\n      <td>NaN</td>\n      <td>NaN</td>\n      <td>AP Calculus BC  Class 1 - Josh - S301</td>\n      <td>NaN</td>\n      <td>AP Environmental Science - Stephen Zhou - S403</td>\n      <td>AP Environmental Science - Stephen Zhou - S403</td>\n      <td>AP Calculus BC  Class 1 - Josh - S301</td>\n      <td>AP Environmental Science - Stephen Zhou - S403</td>\n    </tr>\n    <tr>\n      <th>8</th>\n      <td>NaN</td>\n      <td>NaN</td>\n      <td>Applied Math - Xue Lei - S202</td>\n      <td>NaN</td>\n      <td>AP Biology - Fernanda - S404</td>\n      <td>AP Biology - Fernanda - S404</td>\n      <td>Applied Math - Xue Lei - S202</td>\n      <td>AP Biology - Fernanda - S404</td>\n    </tr>\n    <tr>\n      <th>9</th>\n      <td>NaN</td>\n      <td>NaN</td>\n      <td>AP Statistics Class 1 - Edward - S402</td>\n      <td>NaN</td>\n      <td>AP Computer Science Class 1 - Mr. Li Yutong - ...</td>\n      <td>AP Computer Science Class 1 - Mr. Li Yutong - ...</td>\n      <td>AP Statistics Class 1 - Edward - S402</td>\n      <td>AP Computer Science Class 1 - Mr. Li Yutong - ...</td>\n    </tr>\n    <tr>\n      <th>10</th>\n      <td>NaN</td>\n      <td>NaN</td>\n      <td>/</td>\n      <td>NaN</td>\n      <td>AP Physics C: E&amp;M - Roger - S208</td>\n      <td>AP Physics C: E&amp;M - Roger - S208</td>\n      <td>/</td>\n      <td>AP Physics C: E&amp;M - Roger - S208</td>\n    </tr>\n    <tr>\n      <th>11</th>\n      <td>2</td>\n      <td>9:00-9:40</td>\n      <td>Intro to Western Literature - Megan - S105</td>\n      <td>8:50-9:30</td>\n      <td>ACT 1 - ACT Reading - Shane - S302</td>\n      <td>US History Class 2 - Megan - S501</td>\n      <td>Intro to Western Literature - Megan - S105</td>\n      <td>US History Class 2 - Megan - S501</td>\n    </tr>\n    <tr>\n      <th>12</th>\n      <td>NaN</td>\n      <td>NaN</td>\n      <td>American Literature Class 1 - Kate - S302</td>\n      <td>NaN</td>\n      <td>ACT 2 - ACT Grammar - Serena - S502</td>\n      <td>AP Macroeconomics Class 1 - Ken - S502</td>\n      <td>American Literature Class 1 - Kate - S302</td>\n      <td>AP Macroeconomics Class 1 - Ken - S502</td>\n    </tr>\n    <tr>\n      <th>13</th>\n      <td>NaN</td>\n      <td>NaN</td>\n      <td>Contemporary English Class 1 - Drew - S207</td>\n      <td>NaN</td>\n      <td>ACT 3 - ACT Science - Stephen - S202</td>\n      <td>AP World History Class 2 - Jonaivi - S302</td>\n      <td>Contemporary English Class 1 - Drew - S207</td>\n      <td>AP World History Class 2 - Jonaivi - S302</td>\n    </tr>\n  </tbody>\n</table>\n</div>"
     },
     "metadata": {},
     "execution_count": 11
    }
   ],
   "source": [
    "sd.head(14)"
   ]
  },
  {
   "cell_type": "code",
   "execution_count": 13,
   "metadata": {},
   "outputs": [
    {
     "output_type": "execute_result",
     "data": {
      "text/plain": [
       "2     Intro to Western Literature - Megan - S105\n",
       "3      American Literature Class 1 - Kate - S302\n",
       "4     Contemporary English Class 1 - Drew - S207\n",
       "5      British Literature Class 1 - James - S208\n",
       "6          AP Calculus AB  Class 1 - Lisa - S501\n",
       "7          AP Calculus BC  Class 1 - Josh - S301\n",
       "8                  Applied Math - Xue Lei - S202\n",
       "9          AP Statistics Class 1 - Edward - S402\n",
       "10                                             /\n",
       "Name: Unnamed: 2, dtype: object"
      ]
     },
     "metadata": {},
     "execution_count": 13
    }
   ],
   "source": [
    "sd.iloc[2:11, 2]"
   ]
  },
  {
   "cell_type": "code",
   "execution_count": null,
   "metadata": {},
   "outputs": [],
   "source": []
  }
 ]
}